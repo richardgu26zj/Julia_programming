{
 "cells": [
  {
   "attachments": {},
   "cell_type": "markdown",
   "metadata": {},
   "source": [
    "**Logistic function and the sigmoid**\n",
    "\n",
    "$f(x) = \\frac{1}{1 + \\exp(-\\beta x)}$\n",
    "where $\\beta$ informs us how steep the curve would look like. \n",
    "\n",
    "The loistic function is defined as \n",
    "$\\log\\frac{p}{1-p} = \\beta$. It is very useful in machine learning and odd ratio in statistics. \n",
    "\n",
    "Rearrange the above function and get the expression for $p$, and we obtain \n",
    "$p = \\frac{\\exp(\\beta)}{1+\\exp(\\beta)}$."
   ]
  },
  {
   "cell_type": "code",
   "execution_count": null,
   "metadata": {},
   "outputs": [],
   "source": []
  }
 ],
 "metadata": {
  "kernelspec": {
   "display_name": "Julia 1.7.2",
   "language": "julia",
   "name": "julia-1.7"
  },
  "language_info": {
   "file_extension": ".jl",
   "mimetype": "application/julia",
   "name": "julia",
   "version": "1.7.2"
  },
  "orig_nbformat": 4
 },
 "nbformat": 4,
 "nbformat_minor": 2
}
